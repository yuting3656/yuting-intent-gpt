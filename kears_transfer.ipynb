{
 "cells": [
  {
   "cell_type": "code",
   "execution_count": 1,
   "id": "08f44b88-9384-4835-964b-0fa3c8dd751c",
   "metadata": {},
   "outputs": [
    {
     "ename": "ImportError",
     "evalue": "cannot import name 'TFBertModel'",
     "output_type": "error",
     "traceback": [
      "\u001b[0;31m---------------------------------------------------------------------------\u001b[0m",
      "\u001b[0;31mImportError\u001b[0m                               Traceback (most recent call last)",
      "\u001b[0;32m<ipython-input-1-3820bdc6e742>\u001b[0m in \u001b[0;36m<module>\u001b[0;34m\u001b[0m\n\u001b[1;32m      1\u001b[0m \u001b[0;32mimport\u001b[0m \u001b[0mtensorflow\u001b[0m \u001b[0;32mas\u001b[0m \u001b[0mtf\u001b[0m\u001b[0;34m\u001b[0m\u001b[0;34m\u001b[0m\u001b[0m\n\u001b[0;32m----> 2\u001b[0;31m \u001b[0;32mfrom\u001b[0m \u001b[0mtransformers\u001b[0m \u001b[0;32mimport\u001b[0m \u001b[0mBertTokenizer\u001b[0m\u001b[0;34m,\u001b[0m \u001b[0mTFBertModel\u001b[0m\u001b[0;34m\u001b[0m\u001b[0;34m\u001b[0m\u001b[0m\n\u001b[0m\u001b[1;32m      3\u001b[0m \u001b[0;32mfrom\u001b[0m \u001b[0mkeras\u001b[0m\u001b[0;34m.\u001b[0m\u001b[0mlayers\u001b[0m \u001b[0;32mimport\u001b[0m \u001b[0mDense\u001b[0m\u001b[0;34m,\u001b[0m \u001b[0mInput\u001b[0m\u001b[0;34m,\u001b[0m \u001b[0mDropout\u001b[0m\u001b[0;34m\u001b[0m\u001b[0;34m\u001b[0m\u001b[0m\n\u001b[1;32m      4\u001b[0m \u001b[0;32mfrom\u001b[0m \u001b[0mkeras\u001b[0m\u001b[0;34m.\u001b[0m\u001b[0mmodels\u001b[0m \u001b[0;32mimport\u001b[0m \u001b[0mModel\u001b[0m\u001b[0;34m\u001b[0m\u001b[0;34m\u001b[0m\u001b[0m\n",
      "\u001b[0;31mImportError\u001b[0m: cannot import name 'TFBertModel'"
     ]
    }
   ],
   "source": [
    "import tensorflow as tf\n",
    "from transformers import BertTokenizer, TFBertModel\n",
    "from keras.layers import Dense, Input, Dropout\n",
    "from keras.models import Model"
   ]
  },
  {
   "cell_type": "code",
   "execution_count": null,
   "id": "87d589a9-3a90-48cc-bad3-3aff5cd1e83c",
   "metadata": {},
   "outputs": [],
   "source": [
    "\n",
    "\n",
    "# Load the pre-trained BERT model and tokenizer\n",
    "tokenizer = BertTokenizer.from_pretrained('bert-base-chinese')\n",
    "bert_model = TFBertModel.from_pretrained('bert-base-chinese')\n",
    "\n",
    "# Load the training data\n",
    "train_data = [\n",
    "  {'text': '你好', 'label': 'greeting'},\n",
    "  {'text': '我要訂飯店', 'label': 'hotel_booking'},\n",
    "  {'text': '請問附近有好吃的餐廳嗎？', 'label': 'restaurant_recommendation'}\n",
    "  # add more training data here\n",
    "]\n",
    "\n",
    "# Tokenize the training data and convert labels to one-hot vectors\n",
    "inputs = tokenizer([d['text'] for d in train_data], padding=True, truncation=True, max_length=128, return_tensors='tf')\n",
    "labels = tf.one_hot([{'greeting': 0, 'hotel_booking': 1, 'restaurant_recommendation': 2}[d['label']] for d in train_data], depth=3)\n",
    "\n",
    "# Build the model architecture\n",
    "input_ids = Input(shape=(128,), dtype=tf.int32, name='input_ids')\n",
    "attention_mask = Input(shape=(128,), dtype=tf.int32, name='attention_mask')\n",
    "bert_output = bert_model({'input_ids': input_ids, 'attention_mask': attention_mask})[0]\n",
    "dropout_output = Dropout(0.1)(bert_output)\n",
    "dense_output = Dense(3, activation='softmax')(dropout_output)\n",
    "model = Model(inputs=[input_ids, attention_mask], outputs=dense_output)\n",
    "\n",
    "# Train the model\n",
    "model.compile(optimizer='adam', loss='categorical_crossentropy', metrics=['accuracy'])\n",
    "model.fit([inputs['input_ids'], inputs['attention_mask']], labels, epochs=3, batch_size=32)\n",
    "\n",
    "# Test the model\n",
    "test_data = [\n",
    "  {'text': '你好嗎', 'label': 'greeting'},\n",
    "  {'text': '我要預訂一晚房', 'label': 'hotel_booking'},\n",
    "  {'text': '附近有沒有好吃的餐廳？', 'label': 'restaurant_recommendation'}\n",
    "  # add more test data here\n",
    "]\n",
    "test_inputs = tokenizer([d['text'] for d in test_data], padding=True, truncation=True, max_length=128, return_tensors='tf')\n",
    "test_labels = tf.one_hot([{'greeting': 0, 'hotel_booking': 1, 'restaurant_recommendation': 2}[d['label']] for d in test_data], depth=3)\n",
    "test_loss, test_acc = model.evaluate([test_inputs['input_ids'], test_inputs['attention_mask']], test_labels)\n",
    "print('Test loss:', test_loss)\n",
    "print('Test accuracy:', test_acc)\n"
   ]
  }
 ],
 "metadata": {
  "kernelspec": {
   "display_name": "dzGPT",
   "language": "python",
   "name": "dzgpt"
  },
  "language_info": {
   "codemirror_mode": {
    "name": "ipython",
    "version": 3
   },
   "file_extension": ".py",
   "mimetype": "text/x-python",
   "name": "python",
   "nbconvert_exporter": "python",
   "pygments_lexer": "ipython3",
   "version": "3.6.13"
  }
 },
 "nbformat": 4,
 "nbformat_minor": 5
}
